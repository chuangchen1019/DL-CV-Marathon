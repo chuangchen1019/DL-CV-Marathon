{
 "cells": [
  {
   "cell_type": "markdown",
   "metadata": {},
   "source": [
    "### Use opencv to split image into RGB channels"
   ]
  },
  {
   "cell_type": "code",
   "execution_count": null,
   "metadata": {},
   "outputs": [],
   "source": [
    "import cv2\n",
    "import numpy as np\n",
    "img = cv2.imread('data/lena.png')\n",
    "\n",
    "#set r,g,b value\n",
    "r = img.copy()\n",
    "r[:,:,0] = 0\n",
    "r[:,:,1] = 0\n",
    "\n",
    "g = img.copy()\n",
    "g[:,:,0] = 0\n",
    "g[:,:,2] = 0\n",
    "\n",
    "b = img.copy()\n",
    "b[:,:,1] = 0\n",
    "b[:,:,2] = 0\n",
    "\n",
    "#combine image\n",
    "img_combine1 = np.hstack((r,g,b))\n",
    "img_combine2 = np.hstack((img[:, :, 0], img[:, :, 1], img[:, :, 2]))\n",
    "\n",
    "#show image\n",
    "while True:\n",
    "\n",
    "    cv2.imshow('bgr', img)\n",
    "    cv2.imshow('3 channels', img_combine1)\n",
    "    cv2.imshow('3 dim',img_combine2)\n",
    "\n",
    "    k = cv2.waitKey(0)\n",
    "    if k == 27:\n",
    "        cv2.destroyAllWindows()\n",
    "        break\n"
   ]
  },
  {
   "cell_type": "markdown",
   "metadata": {},
   "source": [
    "<img src=\"data/lena.png\" style=\"zoom:30%\" />\n",
    "<img src=\"data/lena_3channels.png\" style=\"zoom:30%\" />\n",
    "<img src=\"data/lena_3dims.png\" style=\"zoom:30%\" />\n"
   ]
  }
 ],
 "metadata": {
  "kernelspec": {
   "display_name": "Python 3",
   "language": "python",
   "name": "python3"
  },
  "language_info": {
   "codemirror_mode": {
    "name": "ipython",
    "version": 3
   },
   "file_extension": ".py",
   "mimetype": "text/x-python",
   "name": "python",
   "nbconvert_exporter": "python",
   "pygments_lexer": "ipython3",
   "version": "3.7.6"
  }
 },
 "nbformat": 4,
 "nbformat_minor": 2
}
